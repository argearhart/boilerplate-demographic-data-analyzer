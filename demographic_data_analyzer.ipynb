{
 "cells": [
  {
   "cell_type": "code",
   "execution_count": 101,
   "metadata": {},
   "outputs": [
    {
     "name": "stdout",
     "output_type": "stream",
     "text": [
      "race\n",
      "White                 27816\n",
      "Black                  3124\n",
      "Asian-Pac-Islander     1039\n",
      "Amer-Indian-Eskimo      311\n",
      "Other                   271\n",
      "Name: count, dtype: int64\n"
     ]
    }
   ],
   "source": [
    "import pandas as pd\n",
    "import numpy as np\n",
    "import os\n",
    "\n",
    "#def calculate_demographic_data(print_data=True):\n",
    "    \n",
    "df = pd.read_csv('adult.data.csv') \n",
    "\n",
    "# How many of each race are repsresented in this dataset? This should be a Pandas series with race names as the index labels.\n",
    "race_count = df.race.value_counts()\n",
    "print(race_count)\n",
    "\n"
   ]
  },
  {
   "cell_type": "code",
   "execution_count": 102,
   "metadata": {},
   "outputs": [
    {
     "name": "stdout",
     "output_type": "stream",
     "text": [
      "39.43354749885268\n"
     ]
    }
   ],
   "source": [
    "# What is the average age of men?\n",
    "average_age_men = df[df['sex'] == 'Male']['age'].mean()\n",
    "print(average_age_men)"
   ]
  },
  {
   "cell_type": "code",
   "execution_count": 103,
   "metadata": {},
   "outputs": [
    {
     "name": "stdout",
     "output_type": "stream",
     "text": [
      "16.44605509658794\n"
     ]
    }
   ],
   "source": [
    "# What is the percentage of people who have a Bachelor's degree?\n",
    "percentage_bachelors = (df[df['education'] == 'Bachelors'].shape[0] / df.shape[0]) * 100 \n",
    "print(percentage_bachelors)"
   ]
  },
  {
   "cell_type": "code",
   "execution_count": 104,
   "metadata": {},
   "outputs": [
    {
     "name": "stdout",
     "output_type": "stream",
     "text": [
      "24.080955744602438\n",
      "10.706059396210192\n",
      "13.374896348392248\n"
     ]
    }
   ],
   "source": [
    "# What percentage of people with advanced education (`Bachelors`, `Masters`, or `Doctorate`) make more than 50K?\n",
    "# # What percentage of people without advanced education make more than 50K?\n",
    "\n",
    "rich = df[df['salary'] == '>50K']\n",
    "higher_education = rich[rich['education'].isin(['Bachelors', 'Masters', 'Doctorate'])]\n",
    "non_higher_ed = rich[~rich['education'].isin(['Bachelors', 'Masters', 'Doctorate'])]\n",
    "\n",
    "percent_rich = rich.shape[0] / df.shape[0] * 100\n",
    "higher_education_rich = higher_education.shape[0] / df.shape[0] * 100\n",
    "non_higher_ed_rich = non_higher_ed.shape[0] / df.shape[0] * 100\n",
    "\n",
    "print(percent_rich)\n",
    "print(higher_education_rich)\n",
    "print(non_higher_ed_rich)   "
   ]
  },
  {
   "cell_type": "code",
   "execution_count": 105,
   "metadata": {},
   "outputs": [
    {
     "name": "stdout",
     "output_type": "stream",
     "text": [
      "1\n"
     ]
    }
   ],
   "source": [
    "# What is the minimum number of hours a person works per week (hours-per-week feature)?\n",
    "min_work_hours = df['hours-per-week'].min()\n",
    "print(min_work_hours)"
   ]
  },
  {
   "cell_type": "code",
   "execution_count": 106,
   "metadata": {},
   "outputs": [],
   "source": [
    "# What percentage of the people who work the minimum number of hours per week have a salary of >50K?\n",
    "people_working_minimum = df[df['hours-per-week'] == min_work_hours]\n",
    "high_salary = people_working_minimum[people_working_minimum['salary'] == '>50K']"
   ]
  },
  {
   "cell_type": "code",
   "execution_count": 107,
   "metadata": {},
   "outputs": [
    {
     "name": "stdout",
     "output_type": "stream",
     "text": [
      "10.0\n"
     ]
    }
   ],
   "source": [
    "rich_percentage = (len(high_salary) / len(people_working_minimum)) * 100\n",
    "print(rich_percentage)"
   ]
  },
  {
   "cell_type": "code",
   "execution_count": 108,
   "metadata": {},
   "outputs": [
    {
     "name": "stdout",
     "output_type": "stream",
     "text": [
      "41.86046511627907\n",
      "Iran\n"
     ]
    }
   ],
   "source": [
    "# What country has the highest percentage of people that earn >50K?  \n",
    "high_salary_df = df[df['salary'] == '>50K']\n",
    "count_by_country = high_salary_df.groupby('native-country').size()\n",
    "total_count_by_country = df.groupby('native-country').size()\n",
    "percentage_high_by_country = (count_by_country / total_count_by_country) * 100\n",
    "highest_percent = percentage_high_by_country.max()\n",
    "country_with_highest = percentage_high_by_country.idxmax()\n",
    "print(highest_percent)\n",
    "print(country_with_highest)"
   ]
  },
  {
   "cell_type": "code",
   "execution_count": 109,
   "metadata": {},
   "outputs": [
    {
     "name": "stdout",
     "output_type": "stream",
     "text": [
      "Prof-specialty\n",
      "occupation\n",
      "Adm-clerical         1\n",
      "Exec-managerial      8\n",
      "Other-service        2\n",
      "Prof-specialty      25\n",
      "Sales                1\n",
      "Tech-support         2\n",
      "Transport-moving     1\n",
      "dtype: int64\n"
     ]
    }
   ],
   "source": [
    "#Identify the most popular occupation for those who earn >50K in India.\n",
    "india_df = df[(df['salary'] == '>50K') & (df['native-country'] == 'India')]\n",
    "occupation_count = india_df.groupby('occupation').size()\n",
    "top_IN_occupation = occupation_count.idxmax()\n",
    "print(top_IN_occupation)\n",
    "print(occupation_count)"
   ]
  },
  {
   "cell_type": "markdown",
   "metadata": {},
   "source": [
    "   \n",
    "\n",
    "   \n",
    "\n",
    "    # Identify the most popular occupation for those who earn >50K in India.\n",
    "    top_IN_occupation = None\n",
    "\n",
    "    # DO NOT MODIFY BELOW THIS LINE\n",
    "\n",
    "    if print_data:\n",
    "        print(\"Number of each race:\\n\", race_count) \n",
    "        print(\"Average age of men:\", average_age_men)\n",
    "        print(f\"Percentage with Bachelors degrees: {percentage_bachelors}%\")\n",
    "        print(f\"Percentage with higher education that earn >50K: {higher_education_rich}%\")\n",
    "        print(f\"Percentage without higher education that earn >50K: {lower_education_rich}%\")\n",
    "        print(f\"Min work time: {min_work_hours} hours/week\")\n",
    "        print(f\"Percentage of rich among those who work fewest hours: {rich_percentage}%\")\n",
    "        print(\"Country with highest percentage of rich:\", highest_earning_country)\n",
    "        print(f\"Highest percentage of rich people in country: {highest_earning_country_percentage}%\")\n",
    "        print(\"Top occupations in India:\", top_IN_occupation)\n",
    "\n",
    "    return {\n",
    "        'race_count': race_count,\n",
    "        'average_age_men': average_age_men,\n",
    "        'percentage_bachelors': percentage_bachelors,\n",
    "        'higher_education_rich': higher_education_rich,\n",
    "        'lower_education_rich': lower_education_rich,\n",
    "        'min_work_hours': min_work_hours,\n",
    "        'rich_percentage': rich_percentage,\n",
    "        'highest_earning_country': highest_earning_country,\n",
    "        'highest_earning_country_percentage':\n",
    "        highest_earning_country_percentage,\n",
    "        'top_IN_occupation': top_IN_occupation\n",
    "    }\n"
   ]
  },
  {
   "cell_type": "code",
   "execution_count": null,
   "metadata": {},
   "outputs": [],
   "source": []
  }
 ],
 "metadata": {
  "kernelspec": {
   "display_name": "venv_data",
   "language": "python",
   "name": "python3"
  },
  "language_info": {
   "codemirror_mode": {
    "name": "ipython",
    "version": 3
   },
   "file_extension": ".py",
   "mimetype": "text/x-python",
   "name": "python",
   "nbconvert_exporter": "python",
   "pygments_lexer": "ipython3",
   "version": "3.12.0"
  }
 },
 "nbformat": 4,
 "nbformat_minor": 2
}
